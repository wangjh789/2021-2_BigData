{
  "nbformat": 4,
  "nbformat_minor": 0,
  "metadata": {
    "colab": {
      "name": "prefix2.ipynb",
      "provenance": [],
      "collapsed_sections": [],
      "authorship_tag": "ABX9TyOltlKNUCDm55jmBO/iLOVx",
      "include_colab_link": true
    },
    "kernelspec": {
      "name": "python3",
      "display_name": "Python 3"
    },
    "language_info": {
      "name": "python"
    }
  },
  "cells": [
    {
      "cell_type": "markdown",
      "metadata": {
        "id": "view-in-github",
        "colab_type": "text"
      },
      "source": [
        "<a href=\"https://colab.research.google.com/github/wangjh789/2021-2_BigData/blob/master/prefix2.ipynb\" target=\"_parent\"><img src=\"https://colab.research.google.com/assets/colab-badge.svg\" alt=\"Open In Colab\"/></a>"
      ]
    },
    {
      "cell_type": "code",
      "metadata": {
        "colab": {
          "base_uri": "https://localhost:8080/"
        },
        "id": "bntYpd5FlSkH",
        "outputId": "8440ab19-ee6e-4c2a-b739-402bfe0c9ac6"
      },
      "source": [
        "!wget https://raw.githubusercontent.com/gohdong/2021_autumn/master/BigData/project1/facebook_combined.txt \n",
        "!apt-get install openjdk-8-jdk-headless -qq > /dev/null\n",
        "!wget https://dlcdn.apache.org/spark/spark-3.1.2/spark-3.1.2-bin-hadoop2.7.tgz \n",
        "!tar xf spark-3.1.2-bin-hadoop2.7.tgz\n",
        "!pip install findspark\n",
        "!pip install pyspark"
      ],
      "execution_count": 1,
      "outputs": [
        {
          "output_type": "stream",
          "name": "stdout",
          "text": [
            "--2021-10-07 15:53:39--  https://raw.githubusercontent.com/gohdong/2021_autumn/master/BigData/project1/facebook_combined.txt\n",
            "Resolving raw.githubusercontent.com (raw.githubusercontent.com)... 185.199.108.133, 185.199.109.133, 185.199.110.133, ...\n",
            "Connecting to raw.githubusercontent.com (raw.githubusercontent.com)|185.199.108.133|:443... connected.\n",
            "HTTP request sent, awaiting response... 200 OK\n",
            "Length: 854362 (834K) [text/plain]\n",
            "Saving to: ‘facebook_combined.txt.1’\n",
            "\n",
            "facebook_combined.t 100%[===================>] 834.34K  --.-KB/s    in 0.05s   \n",
            "\n",
            "2021-10-07 15:53:40 (17.7 MB/s) - ‘facebook_combined.txt.1’ saved [854362/854362]\n",
            "\n",
            "--2021-10-07 15:53:43--  https://dlcdn.apache.org/spark/spark-3.1.2/spark-3.1.2-bin-hadoop2.7.tgz\n",
            "Resolving dlcdn.apache.org (dlcdn.apache.org)... 151.101.2.132, 2a04:4e42::644\n",
            "Connecting to dlcdn.apache.org (dlcdn.apache.org)|151.101.2.132|:443... connected.\n",
            "HTTP request sent, awaiting response... 200 OK\n",
            "Length: 224445805 (214M) [application/x-gzip]\n",
            "Saving to: ‘spark-3.1.2-bin-hadoop2.7.tgz.1’\n",
            "\n",
            "spark-3.1.2-bin-had 100%[===================>] 214.05M   125MB/s    in 1.7s    \n",
            "\n",
            "2021-10-07 15:53:45 (125 MB/s) - ‘spark-3.1.2-bin-hadoop2.7.tgz.1’ saved [224445805/224445805]\n",
            "\n",
            "Requirement already satisfied: findspark in /usr/local/lib/python3.7/dist-packages (1.4.2)\n",
            "Requirement already satisfied: pyspark in /usr/local/lib/python3.7/dist-packages (3.1.2)\n",
            "Requirement already satisfied: py4j==0.10.9 in /usr/local/lib/python3.7/dist-packages (from pyspark) (0.10.9)\n"
          ]
        }
      ]
    },
    {
      "cell_type": "code",
      "metadata": {
        "id": "81h5Qn0X8jDt"
      },
      "source": [
        "import os\n",
        "os.environ[\"JAVA_HOME\"] = \"/usr/lib/jvm/java-8-openjdk-amd64\"\n",
        "os.environ[\"SPARK_HOME\"] = \"/content/spark-3.1.2-bin-hadoop2.7\"\n",
        "\n",
        "import findspark\n",
        "findspark.init()\n",
        "from pyspark import SparkContext\n",
        "\n",
        "\n",
        "sc = SparkContext(\"local\",\"all\")"
      ],
      "execution_count": 2,
      "outputs": []
    },
    {
      "cell_type": "code",
      "metadata": {
        "id": "zbscH8br-hOU"
      },
      "source": [
        "undirect = sc.textFile('facebook_combined.txt').map(lambda x : x.split(\" \"))\\\n",
        ".flatMap(lambda x: ((int(x[0]),int(x[1])),(int(x[1]),int(x[0])))).groupByKey().mapValues(list)\n",
        "\n",
        "threshold = 0.6"
      ],
      "execution_count": 3,
      "outputs": []
    },
    {
      "cell_type": "code",
      "metadata": {
        "id": "3ymXM_bJ-ltO"
      },
      "source": [
        "A =undirect.map(lambda x: len(x[1])).collect()\n",
        "B=sorted(range(len(A)),key=lambda x:A[x])\n",
        "order=sorted(range(len(A)),key=lambda x:B[x])\n",
        "#sort를 위한 global order"
      ],
      "execution_count": 4,
      "outputs": []
    },
    {
      "cell_type": "code",
      "metadata": {
        "id": "R2-PJOYQ-px-"
      },
      "source": [
        "sorted_undirect = undirect.mapValues(lambda x: sorted(x, key=lambda y : order[y]))"
      ],
      "execution_count": 5,
      "outputs": []
    },
    {
      "cell_type": "code",
      "metadata": {
        "id": "rbWBE1vx-scT"
      },
      "source": [
        "ref = sc.broadcast(dict(sorted_undirect.collect()))"
      ],
      "execution_count": 6,
      "outputs": []
    },
    {
      "cell_type": "code",
      "metadata": {
        "id": "9aFrt8ak-vdX"
      },
      "source": [
        "def make_invert(item):\n",
        "    key = item[0]\n",
        "    arr= item[1]\n",
        "    result= []\n",
        "    prefix_len = int(len(ref.value[key]) - threshold*len(ref.value[key]) + 1) #prefix_filtering \n",
        "    for i in arr[:prefix_len]:\n",
        "      result.append((i,key))\n",
        "    return result"
      ],
      "execution_count": 7,
      "outputs": []
    },
    {
      "cell_type": "code",
      "metadata": {
        "id": "WfsEhGuf-xaF",
        "colab": {
          "base_uri": "https://localhost:8080/"
        },
        "outputId": "edfd64f7-0522-4790-a79d-374bc90d8ac2"
      },
      "source": [
        "invert = sorted_undirect.flatMap(make_invert).groupByKey().mapValues(list)\n",
        "invert.count()"
      ],
      "execution_count": 8,
      "outputs": [
        {
          "output_type": "execute_result",
          "data": {
            "text/plain": [
              "2534"
            ]
          },
          "metadata": {},
          "execution_count": 8
        }
      ]
    },
    {
      "cell_type": "code",
      "metadata": {
        "id": "WlFhQifq-zDC"
      },
      "source": [
        "def make_pair(item):\n",
        "    arr = item[1]\n",
        "    result = []\n",
        "    for idx,i in enumerate(arr):\n",
        "        for j in arr[idx+1:]:\n",
        "          if not len(ref.value[j]) >= threshold*len(ref.value[i]): continue #size filtering |x| >= t * |y| \n",
        "          result.append(((i,j),1))\n",
        "    return result"
      ],
      "execution_count": 9,
      "outputs": []
    },
    {
      "cell_type": "code",
      "metadata": {
        "colab": {
          "base_uri": "https://localhost:8080/"
        },
        "id": "3YYaTHEv-0vh",
        "outputId": "ba3513f3-b6b7-42ed-c978-15e0bbcc5c16"
      },
      "source": [
        "pairs = invert.flatMap(make_pair).reduceByKey(lambda x,y:x+y) #단순히 중복 제거를 위한\n",
        "pairs.count()"
      ],
      "execution_count": 10,
      "outputs": [
        {
          "output_type": "execute_result",
          "data": {
            "text/plain": [
              "403188"
            ]
          },
          "metadata": {},
          "execution_count": 10
        }
      ]
    },
    {
      "cell_type": "code",
      "metadata": {
        "id": "7zFgtasw-6LV"
      },
      "source": [
        "def compute_jaccard(item):\n",
        "    x = item[0][0]\n",
        "    y = item[0][1]\n",
        "\n",
        "    value = len(list(set(ref.value[x])&set(ref.value[y]))) / len(list(set(ref.value[x])|set(ref.value[y])))\n",
        "    return threshold <= value\n",
        "\n",
        "def is_not_friend(item):\n",
        "    x = item[0][0]\n",
        "    y = item[0][1]\n",
        "    target,arr = x,ref.value[y]\n",
        "    return not (target in arr)"
      ],
      "execution_count": 11,
      "outputs": []
    },
    {
      "cell_type": "code",
      "metadata": {
        "colab": {
          "base_uri": "https://localhost:8080/"
        },
        "id": "jFesra5W_AZL",
        "outputId": "ff8037f2-a13f-4718-cc5e-5d67b4d79753"
      },
      "source": [
        "result = pairs.filter(compute_jaccard).filter(is_not_friend).flatMap(lambda x: ((x[0][0],x[0][1]),(x[0][1],x[0][0])))\n",
        "result.count()"
      ],
      "execution_count": 12,
      "outputs": [
        {
          "output_type": "execute_result",
          "data": {
            "text/plain": [
              "3238"
            ]
          },
          "metadata": {},
          "execution_count": 12
        }
      ]
    }
  ]
}