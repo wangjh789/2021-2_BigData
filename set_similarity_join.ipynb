{
  "nbformat": 4,
  "nbformat_minor": 0,
  "metadata": {
    "colab": {
      "name": "set_similarity_join.ipynb",
      "provenance": [],
      "collapsed_sections": [],
      "include_colab_link": true
    },
    "kernelspec": {
      "name": "python3",
      "display_name": "Python 3"
    },
    "language_info": {
      "name": "python"
    }
  },
  "cells": [
    {
      "cell_type": "markdown",
      "metadata": {
        "id": "view-in-github",
        "colab_type": "text"
      },
      "source": [
        "<a href=\"https://colab.research.google.com/github/wangjh789/2021-2_BigData/blob/master/set_similarity_join.ipynb\" target=\"_parent\"><img src=\"https://colab.research.google.com/assets/colab-badge.svg\" alt=\"Open In Colab\"/></a>"
      ]
    },
    {
      "cell_type": "code",
      "metadata": {
        "colab": {
          "base_uri": "https://localhost:8080/"
        },
        "id": "QKOOzkchD9i_",
        "outputId": "64853b6f-e4fe-4669-ab2c-d56d173bfe7b"
      },
      "source": [
        "!wget https://raw.githubusercontent.com/gohdong/2021_autumn/master/BigData/project1/facebook_combined.txt \n",
        "!apt-get install openjdk-8-jdk-headless -qq > /dev/null\n",
        "!wget https://dlcdn.apache.org/spark/spark-3.1.2/spark-3.1.2-bin-hadoop2.7.tgz \n",
        "!tar xf spark-3.1.2-bin-hadoop2.7.tgz\n",
        "!pip install findspark\n",
        "!pip install pyspark\n",
        "!pip install numpy"
      ],
      "execution_count": 1,
      "outputs": [
        {
          "output_type": "stream",
          "name": "stdout",
          "text": [
            "--2021-10-08 03:30:44--  https://raw.githubusercontent.com/gohdong/2021_autumn/master/BigData/project1/facebook_combined.txt\n",
            "Resolving raw.githubusercontent.com (raw.githubusercontent.com)... 185.199.108.133, 185.199.109.133, 185.199.110.133, ...\n",
            "Connecting to raw.githubusercontent.com (raw.githubusercontent.com)|185.199.108.133|:443... connected.\n",
            "HTTP request sent, awaiting response... 200 OK\n",
            "Length: 854362 (834K) [text/plain]\n",
            "Saving to: ‘facebook_combined.txt’\n",
            "\n",
            "facebook_combined.t 100%[===================>] 834.34K  --.-KB/s    in 0.05s   \n",
            "\n",
            "2021-10-08 03:30:44 (16.8 MB/s) - ‘facebook_combined.txt’ saved [854362/854362]\n",
            "\n",
            "--2021-10-08 03:31:00--  https://dlcdn.apache.org/spark/spark-3.1.2/spark-3.1.2-bin-hadoop2.7.tgz\n",
            "Resolving dlcdn.apache.org (dlcdn.apache.org)... 151.101.2.132, 2a04:4e42::644\n",
            "Connecting to dlcdn.apache.org (dlcdn.apache.org)|151.101.2.132|:443... connected.\n",
            "HTTP request sent, awaiting response... 200 OK\n",
            "Length: 224445805 (214M) [application/x-gzip]\n",
            "Saving to: ‘spark-3.1.2-bin-hadoop2.7.tgz’\n",
            "\n",
            "spark-3.1.2-bin-had 100%[===================>] 214.05M   174MB/s    in 1.2s    \n",
            "\n",
            "2021-10-08 03:31:01 (174 MB/s) - ‘spark-3.1.2-bin-hadoop2.7.tgz’ saved [224445805/224445805]\n",
            "\n",
            "Collecting findspark\n",
            "  Downloading findspark-1.4.2-py2.py3-none-any.whl (4.2 kB)\n",
            "Installing collected packages: findspark\n",
            "Successfully installed findspark-1.4.2\n",
            "Collecting pyspark\n",
            "  Downloading pyspark-3.1.2.tar.gz (212.4 MB)\n",
            "\u001b[K     |████████████████████████████████| 212.4 MB 70 kB/s \n",
            "\u001b[?25hCollecting py4j==0.10.9\n",
            "  Downloading py4j-0.10.9-py2.py3-none-any.whl (198 kB)\n",
            "\u001b[K     |████████████████████████████████| 198 kB 43.0 MB/s \n",
            "\u001b[?25hBuilding wheels for collected packages: pyspark\n",
            "  Building wheel for pyspark (setup.py) ... \u001b[?25l\u001b[?25hdone\n",
            "  Created wheel for pyspark: filename=pyspark-3.1.2-py2.py3-none-any.whl size=212880768 sha256=70728746c401f9c375e73d2e59dd3e782887d43bf5f669f61db502f1a1a2bb5f\n",
            "  Stored in directory: /root/.cache/pip/wheels/a5/0a/c1/9561f6fecb759579a7d863dcd846daaa95f598744e71b02c77\n",
            "Successfully built pyspark\n",
            "Installing collected packages: py4j, pyspark\n",
            "Successfully installed py4j-0.10.9 pyspark-3.1.2\n",
            "Requirement already satisfied: numpy in /usr/local/lib/python3.7/dist-packages (1.19.5)\n"
          ]
        }
      ]
    },
    {
      "cell_type": "code",
      "metadata": {
        "id": "9_HE1tEUD_Fd"
      },
      "source": [
        "import os\n",
        "os.environ[\"JAVA_HOME\"] = \"/usr/lib/jvm/java-8-openjdk-amd64\"\n",
        "os.environ[\"SPARK_HOME\"] = \"/content/spark-3.1.2-bin-hadoop2.7\"\n",
        "\n",
        "import findspark\n",
        "import time\n",
        "findspark.init()\n",
        "from pyspark import SparkContext\n",
        "\n",
        "\n",
        "sc = SparkContext(\"local\",\"similarity_join\")"
      ],
      "execution_count": 2,
      "outputs": []
    },
    {
      "cell_type": "code",
      "metadata": {
        "id": "qhkRZUIjECpB"
      },
      "source": [
        "undirect = sc.textFile('facebook_combined.txt').map(lambda x : x.split(\" \"))\\\n",
        ".flatMap(lambda x: ((int(x[0]),int(x[1])),(int(x[1]),int(x[0])))).groupByKey().mapValues(list)\n",
        "\n",
        "\n",
        "ref = sc.broadcast(dict(undirect.collect()))"
      ],
      "execution_count": 3,
      "outputs": []
    },
    {
      "cell_type": "code",
      "metadata": {
        "id": "8kyoKRrXLxKl"
      },
      "source": [
        "def brute_force(threshold):\n",
        "\n",
        "    def make_invert(item):\n",
        "      key= item[0]\n",
        "      arr = item[1]\n",
        "      result = []\n",
        "      for i in arr:\n",
        "          result.append((i,key))\n",
        "      return result\n",
        "\n",
        "    def make_pairs(item):\n",
        "      result = []\n",
        "      arr = item[1]\n",
        "      for idx,i in enumerate(arr):\n",
        "          for j in arr[idx+1:]:\n",
        "              result.append(((i,j),1))\n",
        "      return result\n",
        "      \n",
        "    def verify(item):\n",
        "      x = item[0][0]\n",
        "      y = item[0][1]\n",
        "      overlap = item[1]\n",
        "      a = threshold/(1+threshold)*(len(ref.value[x])+len(ref.value[y]))\n",
        "      return overlap >= a\n",
        "    \n",
        "    def is_not_friend(item):\n",
        "      x = item[0][0]\n",
        "      y = item[0][1]\n",
        "      target,arr = x,ref.value[y]\n",
        "      return not (target in arr)\n",
        "\n",
        "    start = time.time()\n",
        "\n",
        "    ref = sc.broadcast(dict(undirect.collect()))\n",
        "    \n",
        "    sort_end = time.time() #sort 종료\n",
        "\n",
        "    invert = undirect.flatMap(make_invert).groupByKey().mapValues(list)\n",
        "    pairs = invert.flatMap(make_pairs).reduceByKey(lambda x,y : x+y)\n",
        "    num_pairs = pairs.count()\n",
        "\n",
        "    candidate_end = time.time() # 후보쌍 생성 종료\n",
        "\n",
        "    result = pairs.filter(verify).filter(is_not_friend).flatMap(lambda x: ((x[0][0],x[0][1]),(x[0][1],x[0][0])))\n",
        "    num_result = result.count()\n",
        "\n",
        "    verify_end = time.time() # verify 종료\n",
        "    return num_pairs, num_result,start,sort_end,candidate_end,verify_end"
      ],
      "execution_count": 4,
      "outputs": []
    },
    {
      "cell_type": "code",
      "metadata": {
        "id": "W3NOlvTKI3t8"
      },
      "source": [
        "def all_pairs(threshold):\n",
        "\n",
        "  def make_invert(item):\n",
        "    key = item[0]\n",
        "    arr= item[1]\n",
        "    result= []\n",
        "    prefix_len = int(len(ref.value[key]) - threshold*len(ref.value[key]) + 1) #prefix_filtering \n",
        "    for i in arr[:prefix_len]:\n",
        "      result.append((i,key))\n",
        "    return result\n",
        "\n",
        "  def make_pair(item):\n",
        "    arr = item[1]\n",
        "    result = []\n",
        "    for idx,i in enumerate(arr):\n",
        "        for j in arr[idx+1:]:\n",
        "          if not len(ref.value[j]) >= threshold*len(ref.value[i]): continue #size filtering |x| >= t * |y| \n",
        "          result.append(((i,j),1))\n",
        "    return result\n",
        "\n",
        "  def verify(item):\n",
        "    x = item[0][0]\n",
        "    y = item[0][1]\n",
        "\n",
        "    value = len(list(set(ref.value[x])&set(ref.value[y]))) / len(list(set(ref.value[x])|set(ref.value[y])))\n",
        "    return threshold <= value\n",
        "\n",
        "  def is_not_friend(item):\n",
        "    x = item[0][0]\n",
        "    y = item[0][1]\n",
        "    target,arr = x,ref.value[y]\n",
        "    return not (target in arr)\n",
        "\n",
        "  start = time.time()\n",
        "\n",
        "  A =undirect.map(lambda x: len(x[1])).collect()\n",
        "  B=sorted(range(len(A)),key=lambda x:A[x])\n",
        "  order=sorted(range(len(A)),key=lambda x:B[x])\n",
        "  sorted_undirect = undirect.mapValues(lambda x: sorted(x, key=lambda y : order[y]))\n",
        "\n",
        "  ref = sc.broadcast(dict(sorted_undirect.collect()))\n",
        "\n",
        "  sort_end = time.time() #sort 종료\n",
        "\n",
        "  invert = sorted_undirect.flatMap(make_invert).groupByKey().mapValues(list)\n",
        "  pairs = invert.flatMap(make_pair).reduceByKey(lambda x,y : x+y)\n",
        "  num_pairs = pairs.count()\n",
        "\n",
        "  candidate_end = time.time() # 후보쌍 생성 종료\n",
        "\n",
        "  result = pairs.filter(verify).filter(is_not_friend).flatMap(lambda x: ((x[0][0],x[0][1]),(x[0][1],x[0][0])))\n",
        "  num_result = result.count()\n",
        "\n",
        "  verify_end = time.time() # verify 종료\n",
        "\n",
        "  return num_pairs, num_result,start,sort_end,candidate_end,verify_end"
      ],
      "execution_count": 5,
      "outputs": []
    },
    {
      "cell_type": "code",
      "metadata": {
        "id": "14vJEufMEKus"
      },
      "source": [
        "def pp_join(threshold):\n",
        "\n",
        "  def make_pair(item):\n",
        "    arr = item[1]\n",
        "    result = []\n",
        "    for idx,i in enumerate(arr):\n",
        "        for j in arr[idx+1:]:\n",
        "          if not len(ref.value[j]) >= threshold*len(ref.value[i]): continue\n",
        "          result.append(((i,j),1))\n",
        "    return result\n",
        "\n",
        "  def make_invert(item): \n",
        "    key = item[0]\n",
        "    arr= item[1]\n",
        "    result= []\n",
        "    prefix_len = int(len(ref.value[key]) - threshold*len(ref.value[key]) + 1) \n",
        "    for i in arr[:prefix_len]:\n",
        "      result.append((i,key))\n",
        "    return result\n",
        "\n",
        "  def verify(item):\n",
        "    x,y = item[0][0],item[0][1]\n",
        "\n",
        "    Px = int(len(ref.value[x]) - threshold*len(ref.value[x]) + 1)\n",
        "    Py = int(len(ref.value[y]) - threshold*len(ref.value[y]) + 1)\n",
        "\n",
        "    Wx = ref.value[x][Px-1] \n",
        "    Wy = ref.value[y][Py-1]\n",
        "\n",
        "    share = item[1]  #x,y의 prefix 에서의 Overlap 수\n",
        "\n",
        "    a = threshold/(1+threshold)*(len(ref.value[x])+len(ref.value[y]))\n",
        "    value = 0\n",
        "    \n",
        "    if order[Wx] < order[Wy]:                          \n",
        "      value = share + len(set(ref.value[x][Px:])&set(ref.value[y][share:])) \n",
        "\n",
        "    else :                                             \n",
        "      value = share + len(set(ref.value[x][share:])&set(ref.value[y][Py:]))\n",
        "\n",
        "    return value >= a\n",
        "\n",
        "  def is_not_friend(item):\n",
        "    x = item[0][0]\n",
        "    y = item[0][1]\n",
        "    target,arr = x,ref.value[y]\n",
        "    return not (target in arr)\n",
        "\n",
        "\n",
        "  start = time.time()\n",
        "\n",
        "  A =undirect.map(lambda x: len(x[1])).collect()\n",
        "  B=sorted(range(len(A)),key=lambda x:A[x])\n",
        "  order=sorted(range(len(A)),key=lambda x:B[x])\n",
        "  sorted_undirect = undirect.mapValues(lambda x: sorted(x, key=lambda y : order[y]))\n",
        "\n",
        "  ref = sc.broadcast(dict(sorted_undirect.collect()))\n",
        "\n",
        "  sort_end = time.time() #sort 종료\n",
        "\n",
        "  invert = sorted_undirect.flatMap(make_invert).groupByKey().mapValues(list)\n",
        "  pairs = invert.flatMap(make_pair).reduceByKey(lambda x,y : x+y)\n",
        "  num_pairs = pairs.count()\n",
        "\n",
        "  candidate_end = time.time() # 후보쌍 생성 종료\n",
        "\n",
        "  result = pairs.filter(verify).filter(is_not_friend).flatMap(lambda x: ((x[0][0],x[0][1]),(x[0][1],x[0][0])))\n",
        "  num_result = result.count()\n",
        "\n",
        "  verify_end = time.time() # verify 종료\n",
        "\n",
        "  return num_pairs, num_result,start,sort_end,candidate_end,verify_end"
      ],
      "execution_count": 6,
      "outputs": []
    },
    {
      "cell_type": "code",
      "metadata": {
        "id": "NPg_-H8gOZRC"
      },
      "source": [
        "import numpy\n",
        "\n",
        "t = numpy.arange(0.1, 1, 0.1)\n",
        "brute = []\n",
        "all = []\n",
        "pp = []\n",
        "\n",
        "#threshold에 따른 return 값 배열에 담기\n",
        "for threshold in t:\n",
        "  brute.append(brute_force(threshold))\n",
        "  all.append(all_pairs(threshold))\n",
        "  pp.append(pp_join(threshold))\n",
        "\n",
        "\n"
      ],
      "execution_count": 7,
      "outputs": []
    },
    {
      "cell_type": "code",
      "metadata": {
        "id": "C5c7qKnWDiCl"
      },
      "source": [
        "brute_total = list(zip(*brute))\n",
        "all_total = list(zip(*all))\n",
        "pp_total = list(zip(*pp))"
      ],
      "execution_count": 8,
      "outputs": []
    },
    {
      "cell_type": "code",
      "metadata": {
        "colab": {
          "base_uri": "https://localhost:8080/",
          "height": 290
        },
        "id": "crIUdZ4hPNT2",
        "outputId": "c75bb9a2-2262-4aaa-bfdf-bb6a1a32bc26"
      },
      "source": [
        "import matplotlib.pyplot as plt\n",
        "\n",
        "\n",
        "brute_n_pair = brute_total[0]\n",
        "all_n_pair = all_total[0]\n",
        "pp_n_pair = pp_total[0]\n",
        "\n",
        "plt.plot(t,brute_n_pair,'b',label='brute')\n",
        "plt.plot(t,all_n_pair,'y',label='all')\n",
        "plt.plot(t,pp_n_pair,'r',label='pp')\n",
        "plt.legend(loc='upper right')\n",
        "plt.ylabel('number of candidate')\n",
        "plt.xlabel(\"threshold\")\n",
        "plt.show()\n",
        "#threshold 에 따른 발생하는 후보쌍의 개수\n",
        "#brute는 필터링을 하지 않아 threshold에 무관하게 일정\n",
        "#all , pp 는 동일하게 length, prefix 필터링을 거쳐 발생하는 후보쌍 수가 서로 동일함"
      ],
      "execution_count": 9,
      "outputs": [
        {
          "output_type": "display_data",
          "data": {
            "image/png": "[encoded data removed]",
            "text/plain": [
              "<Figure size 432x288 with 1 Axes>"
            ]
          },
          "metadata": {
            "needs_background": "light"
          }
        }
      ]
    },
    {
      "cell_type": "code",
      "metadata": {
        "colab": {
          "base_uri": "https://localhost:8080/",
          "height": 279
        },
        "id": "PsOr2LIUGJZM",
        "outputId": "190bd515-eb44-400f-f07a-f97b8f46a91a"
      },
      "source": [
        "brute_time = [i-j for i,j in zip(brute_total[5],brute_total[2])]\n",
        "all_time = [i-j for i,j in zip(all_total[5],all_total[2])]\n",
        "pp_time = [i-j for i,j in zip(pp_total[5],pp_total[2])]\n",
        "\n",
        "plt.plot(t,brute_time,'b',label='brute')\n",
        "plt.plot(t,all_time,'y',label='all')\n",
        "plt.plot(t,pp_time,'r',label='pp')\n",
        "plt.legend(loc='upper right')\n",
        "plt.ylabel('runtime')\n",
        "plt.xlabel(\"threshold\")\n",
        "plt.show()\n",
        "\n",
        "#threshold 에 따른 전체 실행속도"
      ],
      "execution_count": 10,
      "outputs": [
        {
          "output_type": "display_data",
          "data": {
            "image/png": "[encoded data removed]",
            "text/plain": [
              "<Figure size 432x288 with 1 Axes>"
            ]
          },
          "metadata": {
            "needs_background": "light"
          }
        }
      ]
    },
    {
      "cell_type": "code",
      "metadata": {
        "colab": {
          "base_uri": "https://localhost:8080/",
          "height": 279
        },
        "id": "YeccWcRDR6-X",
        "outputId": "55abc8d6-46a7-4a20-ec84-8cc3bef273ba"
      },
      "source": [
        "brute_cand = [i-j for i,j in zip(brute_total[4],brute_total[3])]\n",
        "all_cand = [i-j for i,j in zip(all_total[4],all_total[3])]\n",
        "pp_cand = [i-j for i,j in zip(pp_total[4],pp_total[3])]\n",
        "\n",
        "plt.plot(t,brute_cand,'b',label='brute')\n",
        "plt.plot(t,all_cand,'y',label='all')\n",
        "plt.plot(t,pp_cand,'r',label='pp')\n",
        "plt.legend(loc='upper right')\n",
        "plt.ylabel('time for generating candidate')\n",
        "plt.xlabel(\"threshold\")\n",
        "plt.show()\n",
        "\n",
        "#threshold에 따른 후보쌍을 생성하는데 소요되는 시간\n",
        "#brute는 필터링을 거치지 않아 threshold와 무관하게 거의 일정하다.\n",
        "#pp,all은 필터링을 거쳐 threshold에 따라 후보쌍의 개수와 생성 시간이 감소된다."
      ],
      "execution_count": 12,
      "outputs": [
        {
          "output_type": "display_data",
          "data": {
            "image/png": "[encoded data removed]",
            "text/plain": [
              "<Figure size 432x288 with 1 Axes>"
            ]
          },
          "metadata": {
            "needs_background": "light"
          }
        }
      ]
    },
    {
      "cell_type": "code",
      "metadata": {
        "colab": {
          "base_uri": "https://localhost:8080/",
          "height": 279
        },
        "id": "UPLFIjvxSt0A",
        "outputId": "bd9705d3-4a91-41c4-bfa1-c33d4914f320"
      },
      "source": [
        "brute_verify = [i-j for i,j in zip(brute_total[5],brute_total[4])]\n",
        "all_verify  = [i-j for i,j in zip(all_total[5],all_total[4])]\n",
        "pp_verify  = [i-j for i,j in zip(pp_total[5],pp_total[4])]\n",
        "\n",
        "plt.plot(t,brute_verify,'b',label='brute')\n",
        "plt.plot(t,all_verify,'y',label='all')\n",
        "plt.plot(t,pp_verify,'r',label='pp')\n",
        "plt.legend(loc='upper right')\n",
        "plt.ylabel('time for verify')\n",
        "plt.xlabel(\"threshold\")\n",
        "plt.show()\n",
        "\n",
        "#threshold에 따른 후보쌍을 판별하는데 소요되는 시간\n",
        "#brute는 필터링을 거치지 않아 후보쌍의 개수가 일정해 판별시간 또한 일정하다. brute: treshold 계산 O(1) / pp,all : 교집합 계산 O(n)\n",
        "#pp, all은 필터링을 거쳐 threshold에 따라 후보쌍의 개수와 판별시간이 감소한다.\n",
        "\n",
        "#pp 는 all보다 추가로 positional imformation 을 이용하므로 all보다 판별 시간이 적게 소요된다."
      ],
      "execution_count": 13,
      "outputs": [
        {
          "output_type": "display_data",
          "data": {
            "image/png": "[encoded data removed]",
            "text/plain": [
              "<Figure size 432x288 with 1 Axes>"
            ]
          },
          "metadata": {
            "needs_background": "light"
          }
        }
      ]
    }
  ]
}