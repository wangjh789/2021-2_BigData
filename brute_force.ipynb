{
  "nbformat": 4,
  "nbformat_minor": 0,
  "metadata": {
    "colab": {
      "name": "brute_force.ipynb",
      "provenance": [],
      "collapsed_sections": [],
      "include_colab_link": true
    },
    "kernelspec": {
      "display_name": "Python 3",
      "name": "python3"
    },
    "language_info": {
      "name": "python"
    }
  },
  "cells": [
    {
      "cell_type": "markdown",
      "metadata": {
        "id": "view-in-github",
        "colab_type": "text"
      },
      "source": [
        "<a href=\"https://colab.research.google.com/github/wangjh789/2021-2_BigData/blob/master/brute_force.ipynb\" target=\"_parent\"><img src=\"https://colab.research.google.com/assets/colab-badge.svg\" alt=\"Open In Colab\"/></a>"
      ]
    },
    {
      "cell_type": "code",
      "metadata": {
        "colab": {
          "base_uri": "https://localhost:8080/"
        },
        "id": "migEywpiAfmy",
        "outputId": "c40a5afc-330d-4a39-b656-7919682ba765"
      },
      "source": [
        "!wget https://raw.githubusercontent.com/gohdong/2021_autumn/master/BigData/project1/facebook_combined.txt \n",
        "!apt-get install openjdk-8-jdk-headless -qq > /dev/null\n",
        "!wget https://dlcdn.apache.org/spark/spark-3.1.2/spark-3.1.2-bin-hadoop2.7.tgz \n",
        "!tar xf spark-3.1.2-bin-hadoop2.7.tgz\n",
        "!pip install findspark\n",
        "!pip install pyspark"
      ],
      "execution_count": 1,
      "outputs": [
        {
          "output_type": "stream",
          "name": "stdout",
          "text": [
            "--2021-10-07 15:53:17--  https://raw.githubusercontent.com/gohdong/2021_autumn/master/BigData/project1/facebook_combined.txt\n",
            "Resolving raw.githubusercontent.com (raw.githubusercontent.com)... 185.199.109.133, 185.199.111.133, 185.199.110.133, ...\n",
            "Connecting to raw.githubusercontent.com (raw.githubusercontent.com)|185.199.109.133|:443... connected.\n",
            "HTTP request sent, awaiting response... 200 OK\n",
            "Length: 854362 (834K) [text/plain]\n",
            "Saving to: ‘facebook_combined.txt.3’\n",
            "\n",
            "\rfacebook_combined.t   0%[                    ]       0  --.-KB/s               \rfacebook_combined.t 100%[===================>] 834.34K  --.-KB/s    in 0.02s   \n",
            "\n",
            "2021-10-07 15:53:17 (45.9 MB/s) - ‘facebook_combined.txt.3’ saved [854362/854362]\n",
            "\n",
            "--2021-10-07 15:53:19--  https://dlcdn.apache.org/spark/spark-3.1.2/spark-3.1.2-bin-hadoop2.7.tgz\n",
            "Resolving dlcdn.apache.org (dlcdn.apache.org)... 151.101.2.132, 2a04:4e42::644\n",
            "Connecting to dlcdn.apache.org (dlcdn.apache.org)|151.101.2.132|:443... connected.\n",
            "HTTP request sent, awaiting response... 200 OK\n",
            "Length: 224445805 (214M) [application/x-gzip]\n",
            "Saving to: ‘spark-3.1.2-bin-hadoop2.7.tgz.3’\n",
            "\n",
            "spark-3.1.2-bin-had 100%[===================>] 214.05M   217MB/s    in 1.0s    \n",
            "\n",
            "2021-10-07 15:53:20 (217 MB/s) - ‘spark-3.1.2-bin-hadoop2.7.tgz.3’ saved [224445805/224445805]\n",
            "\n",
            "Requirement already satisfied: findspark in /usr/local/lib/python3.7/dist-packages (1.4.2)\n",
            "Requirement already satisfied: pyspark in /usr/local/lib/python3.7/dist-packages (3.1.2)\n",
            "Requirement already satisfied: py4j==0.10.9 in /usr/local/lib/python3.7/dist-packages (from pyspark) (0.10.9)\n"
          ]
        }
      ]
    },
    {
      "cell_type": "code",
      "metadata": {
        "id": "53f6G_MwAwjI"
      },
      "source": [
        "import os\n",
        "os.environ[\"JAVA_HOME\"] = \"/usr/lib/jvm/java-8-openjdk-amd64\"\n",
        "os.environ[\"SPARK_HOME\"] = \"/content/spark-3.1.2-bin-hadoop2.7\"\n",
        "\n",
        "import findspark\n",
        "findspark.init()\n",
        "from pyspark import SparkContext\n",
        "\n",
        "\n",
        "sc = SparkContext(\"local\",\"bf\")"
      ],
      "execution_count": 2,
      "outputs": []
    },
    {
      "cell_type": "code",
      "metadata": {
        "id": "_gRnkD9YAyju"
      },
      "source": [
        "undirect = sc.textFile('facebook_combined.txt').map(lambda x : x.split(\" \"))\\\n",
        ".flatMap(lambda x: ((int(x[0]),int(x[1])),(int(x[1]),int(x[0])))).groupByKey().mapValues(list)\n",
        "\n",
        "threshold = 0.6"
      ],
      "execution_count": 3,
      "outputs": []
    },
    {
      "cell_type": "code",
      "metadata": {
        "id": "0FX2OVdgA38z"
      },
      "source": [
        "ref = sc.broadcast(dict(undirect.collect()))"
      ],
      "execution_count": 4,
      "outputs": []
    },
    {
      "cell_type": "code",
      "metadata": {
        "id": "jv425swZB6Kw"
      },
      "source": [
        "def make_invert(item):\n",
        "    key= item[0]\n",
        "    arr = item[1]\n",
        "    result = []\n",
        "    for i in arr:\n",
        "        result.append((i,key))\n",
        "    return result"
      ],
      "execution_count": 5,
      "outputs": []
    },
    {
      "cell_type": "code",
      "metadata": {
        "colab": {
          "base_uri": "https://localhost:8080/"
        },
        "id": "NA4ng99_A6o5",
        "outputId": "be235ac5-b0f4-45e3-fb1c-5874a4aea675"
      },
      "source": [
        "invert = undirect.flatMap(make_invert).groupByKey().mapValues(list)\n",
        "invert.count()"
      ],
      "execution_count": 6,
      "outputs": [
        {
          "output_type": "execute_result",
          "data": {
            "text/plain": [
              "4039"
            ]
          },
          "metadata": {},
          "execution_count": 6
        }
      ]
    },
    {
      "cell_type": "code",
      "metadata": {
        "id": "Cm2G5WHGBEIt"
      },
      "source": [
        "def make_pairs(item):\n",
        "    result = []\n",
        "    arr = item[1]\n",
        "    for idx,i in enumerate(arr):\n",
        "        for j in arr[idx+1:]:\n",
        "            result.append(((i,j),1))\n",
        "    return result"
      ],
      "execution_count": 7,
      "outputs": []
    },
    {
      "cell_type": "code",
      "metadata": {
        "colab": {
          "base_uri": "https://localhost:8080/"
        },
        "id": "gYXOoQOIBLWx",
        "outputId": "a602e78a-c7cc-4b63-e84c-c3caec7ec1dc"
      },
      "source": [
        "pairs = invert.flatMap(make_pairs).reduceByKey(lambda x,y : x+y)\n",
        "pairs.count()"
      ],
      "execution_count": 8,
      "outputs": [
        {
          "output_type": "execute_result",
          "data": {
            "text/plain": [
              "1446223"
            ]
          },
          "metadata": {},
          "execution_count": 8
        }
      ]
    },
    {
      "cell_type": "code",
      "metadata": {
        "id": "VWVYprwcBcuR"
      },
      "source": [
        "def compute_overlap(item):\n",
        "    x = item[0][0]\n",
        "    y = item[0][1]\n",
        "    overlap = item[1]\n",
        "    a = threshold/(1+threshold)*(len(ref.value[x])+len(ref.value[y]))\n",
        "    return overlap >= a\n",
        "\n",
        "def is_not_friend(item):\n",
        "    x = item[0][0]\n",
        "    y = item[0][1]\n",
        "    return not (x in ref.value[y])"
      ],
      "execution_count": 9,
      "outputs": []
    },
    {
      "cell_type": "code",
      "metadata": {
        "colab": {
          "base_uri": "https://localhost:8080/"
        },
        "id": "m0c2LGEiBeS7",
        "outputId": "0112b9d8-d119-4e32-f53d-f03ead2e1f9b"
      },
      "source": [
        "result = pairs.filter(compute_overlap).filter(is_not_friend).flatMap(lambda x: ((x[0][0],x[0][1]),(x[0][1],x[0][0])))\n",
        "result.count()"
      ],
      "execution_count": 10,
      "outputs": [
        {
          "output_type": "execute_result",
          "data": {
            "text/plain": [
              "3238"
            ]
          },
          "metadata": {},
          "execution_count": 10
        }
      ]
    }
  ]
}